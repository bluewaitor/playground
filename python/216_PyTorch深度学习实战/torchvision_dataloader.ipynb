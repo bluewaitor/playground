{
 "cells": [
  {
   "cell_type": "code",
   "execution_count": 1,
   "id": "17964a9b-c3b8-45c9-894b-65b30c7bba01",
   "metadata": {},
   "outputs": [],
   "source": [
    "import torch\n",
    "from torch.utils.data import Dataset\n",
    "\n",
    "class MyDataset(Dataset):\n",
    "    def __init__(self, data_tensor, target_tensor):\n",
    "        self.data_tensor = data_tensor\n",
    "        self.target_tensor = target_tensor\n",
    "    def __len__(self):\n",
    "        return self.data_tensor.size(0)\n",
    "    def __getitem__(self, index):\n",
    "        return self.data_tensor[index], self.target_tensor[index]"
   ]
  },
  {
   "cell_type": "code",
   "execution_count": 2,
   "id": "baaf3e52-fe00-4546-a6c8-54338a61e975",
   "metadata": {},
   "outputs": [
    {
     "name": "stdout",
     "output_type": "stream",
     "text": [
      "Dataset size: 10\n",
      "tensor_data[0]: (tensor([0.2468, 1.2107, 1.2300]), tensor(0))\n"
     ]
    }
   ],
   "source": [
    "data_tensor = torch.randn(10, 3)\n",
    "target_tensor = torch.randint(2, (10, )) # 标签是0或1\n",
    "\n",
    "my_dataset = MyDataset(data_tensor, target_tensor)\n",
    "\n",
    "print('Dataset size:', len(my_dataset))\n",
    "\n",
    "print('tensor_data[0]:', my_dataset[0])"
   ]
  },
  {
   "cell_type": "markdown",
   "id": "8ea49006-3ca5-4351-aac8-c11a356b33b6",
   "metadata": {},
   "source": [
    "## DataLoader类的调用："
   ]
  },
  {
   "cell_type": "code",
   "execution_count": 3,
   "id": "fcee6d53-8915-4db6-8852-b4dcdc2a720a",
   "metadata": {},
   "outputs": [
    {
     "name": "stdout",
     "output_type": "stream",
     "text": [
      "tensor([[ 0.2468,  1.2107,  1.2300],\n",
      "        [ 0.8935, -0.3969,  0.4230]]) tensor([0, 0])\n",
      "tensor([[-0.6713, -1.4695, -0.3657],\n",
      "        [-0.1613,  2.2772,  0.9263]]) tensor([1, 0])\n",
      "tensor([[-0.4203, -0.8637, -0.4272],\n",
      "        [ 0.8247, -0.1206,  0.7929]]) tensor([0, 0])\n",
      "tensor([[ 0.0075,  1.0214, -0.8051],\n",
      "        [ 0.0560,  0.8534, -0.4892]]) tensor([1, 1])\n",
      "tensor([[-1.3325,  0.1837,  0.1072],\n",
      "        [-0.2840, -0.4770, -0.3373]]) tensor([0, 1])\n",
      "One batch tensor data:  [tensor([[-0.2840, -0.4770, -0.3373],\n",
      "        [ 0.0075,  1.0214, -0.8051]]), tensor([1, 1])]\n"
     ]
    }
   ],
   "source": [
    "from torch.utils.data import DataLoader\n",
    "\n",
    "tensor_dataloader = DataLoader(dataset=my_dataset,\n",
    "                               batch_size=2,\n",
    "                               shuffle=True,\n",
    "                               num_workers=0)\n",
    "\n",
    "for data, target in tensor_dataloader:\n",
    "    print(data, target)\n",
    "    \n",
    "print('One batch tensor data: ', iter(tensor_dataloader).next())"
   ]
  },
  {
   "cell_type": "markdown",
   "id": "6e01ab40-1b87-41de-89e5-5782fdf087a4",
   "metadata": {},
   "source": [
    "## torchvision"
   ]
  },
  {
   "cell_type": "code",
   "execution_count": 4,
   "id": "9e6f84d3-6413-4acb-88c4-3f87963a109d",
   "metadata": {},
   "outputs": [],
   "source": [
    "import torchvision\n",
    "\n",
    "mnist_dataset = torchvision.datasets.MNIST(root='./data',\n",
    "                                           train=True, # True加载训练集，False加载测试集\n",
    "                                           transform=None,\n",
    "                                           target_transform=None,\n",
    "                                           download=True)\n"
   ]
  },
  {
   "cell_type": "code",
   "execution_count": 5,
   "id": "ca48068a-33aa-4d0d-8c48-5fc120d2b268",
   "metadata": {},
   "outputs": [
    {
     "data": {
      "text/plain": [
       "torchvision.datasets.mnist.MNIST"
      ]
     },
     "execution_count": 5,
     "metadata": {},
     "output_type": "execute_result"
    }
   ],
   "source": [
    "type(mnist_dataset)"
   ]
  },
  {
   "cell_type": "code",
   "execution_count": 6,
   "id": "128f39b5-a1d1-48e6-a864-b7f020f49cd2",
   "metadata": {},
   "outputs": [],
   "source": [
    "mnist_dataset_list = list(mnist_dataset)\n",
    "# print(mnist_dataset_list)"
   ]
  },
  {
   "cell_type": "code",
   "execution_count": 7,
   "id": "dc29b477-0da2-4d61-a68e-7745de90caf0",
   "metadata": {},
   "outputs": [
    {
     "data": {
      "image/png": "[encoded data removed]",
      "text/plain": [
       "<PIL.Image.Image image mode=L size=28x28>"
      ]
     },
     "metadata": {},
     "output_type": "display_data"
    },
    {
     "name": "stdout",
     "output_type": "stream",
     "text": [
      "Image label is: 5\n"
     ]
    }
   ],
   "source": [
    "display(mnist_dataset_list[0][0])\n",
    "print(\"Image label is:\", mnist_dataset_list[0][1])"
   ]
  },
  {
   "cell_type": "code",
   "execution_count": null,
   "id": "00e24bd4-b842-4158-9490-63564b4502c4",
   "metadata": {},
   "outputs": [],
   "source": []
  }
 ],
 "metadata": {
  "kernelspec": {
   "display_name": "Python 3 (ipykernel)",
   "language": "python",
   "name": "python3"
  },
  "language_info": {
   "codemirror_mode": {
    "name": "ipython",
    "version": 3
   },
   "file_extension": ".py",
   "mimetype": "text/x-python",
   "name": "python",
   "nbconvert_exporter": "python",
   "pygments_lexer": "ipython3",
   "version": "3.9.5"
  }
 },
 "nbformat": 4,
 "nbformat_minor": 5
}
