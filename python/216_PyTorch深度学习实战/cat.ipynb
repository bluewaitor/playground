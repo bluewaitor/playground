{
 "cells": [
  {
   "cell_type": "code",
   "execution_count": 1,
   "id": "bec7d6f4-0f79-4507-b2dd-789b80504c37",
   "metadata": {},
   "outputs": [],
   "source": [
    "import torch"
   ]
  },
  {
   "cell_type": "markdown",
   "id": "c3916120-9d72-4f72-a7bf-c6a7570ee77d",
   "metadata": {},
   "source": [
    "# 连接操作"
   ]
  },
  {
   "cell_type": "markdown",
   "id": "cf9ee584-005c-426c-bc2d-b69026c8c93f",
   "metadata": {
    "tags": []
   },
   "source": [
    "## cat"
   ]
  },
  {
   "cell_type": "code",
   "execution_count": 2,
   "id": "4174386d-aa20-4f98-bb23-7bbf67b25618",
   "metadata": {},
   "outputs": [],
   "source": [
    "A = torch.ones(3, 3)\n",
    "B = 2 * torch.ones(3, 3)"
   ]
  },
  {
   "cell_type": "code",
   "execution_count": 3,
   "id": "c6effd58-42d8-4b84-a8df-3cca620602c5",
   "metadata": {},
   "outputs": [
    {
     "data": {
      "text/plain": [
       "tensor([[1., 1., 1.],\n",
       "        [1., 1., 1.],\n",
       "        [1., 1., 1.]])"
      ]
     },
     "execution_count": 3,
     "metadata": {},
     "output_type": "execute_result"
    }
   ],
   "source": [
    "A"
   ]
  },
  {
   "cell_type": "code",
   "execution_count": 4,
   "id": "b8482d02-575b-4bb8-82ec-8b9d7343bb85",
   "metadata": {},
   "outputs": [
    {
     "data": {
      "text/plain": [
       "tensor([[2., 2., 2.],\n",
       "        [2., 2., 2.],\n",
       "        [2., 2., 2.]])"
      ]
     },
     "execution_count": 4,
     "metadata": {},
     "output_type": "execute_result"
    }
   ],
   "source": [
    "B"
   ]
  },
  {
   "cell_type": "code",
   "execution_count": 5,
   "id": "67a42ee0-31e9-466f-b208-8bbf546cae6d",
   "metadata": {},
   "outputs": [
    {
     "data": {
      "text/plain": [
       "tensor([[1., 1., 1.],\n",
       "        [1., 1., 1.],\n",
       "        [1., 1., 1.],\n",
       "        [2., 2., 2.],\n",
       "        [2., 2., 2.],\n",
       "        [2., 2., 2.]])"
      ]
     },
     "execution_count": 5,
     "metadata": {},
     "output_type": "execute_result"
    }
   ],
   "source": [
    "C = torch.cat((A, B), 0)\n",
    "C"
   ]
  },
  {
   "cell_type": "code",
   "execution_count": 6,
   "id": "e956b20f-2962-4d18-a658-2f104a40852e",
   "metadata": {},
   "outputs": [
    {
     "data": {
      "text/plain": [
       "tensor([[1., 1., 1., 2., 2., 2.],\n",
       "        [1., 1., 1., 2., 2., 2.],\n",
       "        [1., 1., 1., 2., 2., 2.]])"
      ]
     },
     "execution_count": 6,
     "metadata": {},
     "output_type": "execute_result"
    }
   ],
   "source": [
    "D = torch.cat((A, B), 1)\n",
    "D"
   ]
  },
  {
   "cell_type": "markdown",
   "id": "7dfbba01-7558-4528-b855-eb60c9d735b8",
   "metadata": {},
   "source": [
    "## stack"
   ]
  },
  {
   "cell_type": "code",
   "execution_count": 7,
   "id": "92670ced-d808-4091-bf79-bcffa52df697",
   "metadata": {},
   "outputs": [
    {
     "data": {
      "text/plain": [
       "tensor([0, 1, 2, 3])"
      ]
     },
     "execution_count": 7,
     "metadata": {},
     "output_type": "execute_result"
    }
   ],
   "source": [
    "A = torch.arange(0, 4)\n",
    "A"
   ]
  },
  {
   "cell_type": "code",
   "execution_count": 8,
   "id": "ba6d4e0e-2289-421b-9af9-3ec0acd2c5fa",
   "metadata": {},
   "outputs": [
    {
     "data": {
      "text/plain": [
       "tensor([5, 6, 7, 8])"
      ]
     },
     "execution_count": 8,
     "metadata": {},
     "output_type": "execute_result"
    }
   ],
   "source": [
    "B = torch.arange(5, 9)\n",
    "B"
   ]
  },
  {
   "cell_type": "code",
   "execution_count": 9,
   "id": "84210014-b571-4c69-be29-d9209e2ca250",
   "metadata": {},
   "outputs": [
    {
     "data": {
      "text/plain": [
       "tensor([[0, 1, 2, 3],\n",
       "        [5, 6, 7, 8]])"
      ]
     },
     "execution_count": 9,
     "metadata": {},
     "output_type": "execute_result"
    }
   ],
   "source": [
    "C = torch.stack((A, B), 0)\n",
    "C"
   ]
  },
  {
   "cell_type": "code",
   "execution_count": 10,
   "id": "14c4886c-1f6c-486a-b89f-0d45a3822a31",
   "metadata": {},
   "outputs": [
    {
     "data": {
      "text/plain": [
       "tensor([[0, 5],\n",
       "        [1, 6],\n",
       "        [2, 7],\n",
       "        [3, 8]])"
      ]
     },
     "execution_count": 10,
     "metadata": {},
     "output_type": "execute_result"
    }
   ],
   "source": [
    "D = torch.stack((A, B), 1)\n",
    "D"
   ]
  },
  {
   "cell_type": "markdown",
   "id": "c3581008-af4b-4284-8364-ed5476682bbf",
   "metadata": {},
   "source": [
    "# 切分"
   ]
  },
  {
   "cell_type": "markdown",
   "id": "4a0dec20-6cf6-4e6c-b703-ee0ae798d7d0",
   "metadata": {},
   "source": [
    "## chunk"
   ]
  },
  {
   "cell_type": "markdown",
   "id": "bed09adb-ade9-42e9-a71b-619e2da2a118",
   "metadata": {},
   "source": [
    "torch.chunk(input, chunks, dim=0) # 参数chunks必须是整数"
   ]
  },
  {
   "cell_type": "code",
   "execution_count": 11,
   "id": "af124148-ca16-4c7b-a1d9-9d0d5689f25c",
   "metadata": {},
   "outputs": [],
   "source": [
    "A = torch.tensor([1, 2, 3, 4, 5, 6, 7, 8, 9, 10])"
   ]
  },
  {
   "cell_type": "code",
   "execution_count": 12,
   "id": "8fd1310a-2093-46a4-8f14-e59ff48cb07d",
   "metadata": {},
   "outputs": [
    {
     "data": {
      "text/plain": [
       "(tensor([1, 2, 3, 4, 5]), tensor([ 6,  7,  8,  9, 10]))"
      ]
     },
     "execution_count": 12,
     "metadata": {},
     "output_type": "execute_result"
    }
   ],
   "source": [
    "B = torch.chunk(A, 2, 0)\n",
    "B"
   ]
  },
  {
   "cell_type": "markdown",
   "id": "827cbd1f-f854-4439-8537-b713279f4a44",
   "metadata": {},
   "source": [
    "如果chunk参数不能够整除的话"
   ]
  },
  {
   "cell_type": "code",
   "execution_count": 13,
   "id": "22f9dad6-1d69-46dd-8fd6-ac59d0c08308",
   "metadata": {},
   "outputs": [
    {
     "data": {
      "text/plain": [
       "(tensor([1, 2, 3, 4]), tensor([5, 6, 7, 8]), tensor([ 9, 10]))"
      ]
     },
     "execution_count": 13,
     "metadata": {},
     "output_type": "execute_result"
    }
   ],
   "source": [
    "B = torch.chunk(A, 3, 0) # 4, 4, 2\n",
    "B"
   ]
  },
  {
   "cell_type": "code",
   "execution_count": 14,
   "id": "4416f884-e8ef-4cb8-9471-71e16025b458",
   "metadata": {},
   "outputs": [
    {
     "data": {
      "text/plain": [
       "(tensor([1, 2, 3, 4, 5]),\n",
       " tensor([ 6,  7,  8,  9, 10]),\n",
       " tensor([11, 12, 13, 14, 15]),\n",
       " tensor([16, 17]))"
      ]
     },
     "execution_count": 14,
     "metadata": {},
     "output_type": "execute_result"
    }
   ],
   "source": [
    "A = torch.tensor([1, 2, 3, 4, 5, 6, 7, 8, 9, 10, 11, 12, 13, 14, 15, 16, 17])\n",
    "B = torch.chunk(A, 4, 0)\n",
    "B"
   ]
  },
  {
   "cell_type": "markdown",
   "id": "60315aee-d2de-4ed1-9d65-1b44f11c33a2",
   "metadata": {},
   "source": [
    "切分成了 5, 5, 5, 2 长度的向量，由此可见chunk是除法，然后向上取整"
   ]
  },
  {
   "cell_type": "code",
   "execution_count": 15,
   "id": "706ece51-8ba8-452b-95ef-50ecd7c97af0",
   "metadata": {},
   "outputs": [
    {
     "data": {
      "text/plain": [
       "(tensor([1]), tensor([2]), tensor([3]))"
      ]
     },
     "execution_count": 15,
     "metadata": {},
     "output_type": "execute_result"
    }
   ],
   "source": [
    "A = torch.tensor([1, 2, 3])\n",
    "B = torch.chunk(A, 5, 0)\n",
    "B"
   ]
  },
  {
   "cell_type": "markdown",
   "id": "48b1f67a-5704-4243-b57e-a7987617c3cc",
   "metadata": {},
   "source": [
    "chunk参数大于可切分的长度，则会切分成若干个长度为1的向量"
   ]
  },
  {
   "cell_type": "code",
   "execution_count": 16,
   "id": "a037463a-b974-4e36-aee2-c21474056d47",
   "metadata": {},
   "outputs": [
    {
     "data": {
      "text/plain": [
       "tensor([[1., 1., 1., 1.],\n",
       "        [1., 1., 1., 1.],\n",
       "        [1., 1., 1., 1.],\n",
       "        [1., 1., 1., 1.]])"
      ]
     },
     "execution_count": 16,
     "metadata": {},
     "output_type": "execute_result"
    }
   ],
   "source": [
    "A = torch.ones(4, 4)\n",
    "A"
   ]
  },
  {
   "cell_type": "code",
   "execution_count": 17,
   "id": "03b8cee0-9b58-4ef3-a001-245cf9fa1a3e",
   "metadata": {},
   "outputs": [
    {
     "data": {
      "text/plain": [
       "(tensor([[1., 1., 1., 1.],\n",
       "         [1., 1., 1., 1.]]),\n",
       " tensor([[1., 1., 1., 1.],\n",
       "         [1., 1., 1., 1.]]))"
      ]
     },
     "execution_count": 17,
     "metadata": {},
     "output_type": "execute_result"
    }
   ],
   "source": [
    "B = torch.chunk(A, 2, 0)\n",
    "B"
   ]
  },
  {
   "cell_type": "code",
   "execution_count": 18,
   "id": "1c1fd8d6-763c-4957-aa03-72103f78280e",
   "metadata": {},
   "outputs": [
    {
     "data": {
      "text/plain": [
       "(tensor([[1., 1.],\n",
       "         [1., 1.],\n",
       "         [1., 1.],\n",
       "         [1., 1.]]),\n",
       " tensor([[1., 1.],\n",
       "         [1., 1.],\n",
       "         [1., 1.],\n",
       "         [1., 1.]]))"
      ]
     },
     "execution_count": 18,
     "metadata": {},
     "output_type": "execute_result"
    }
   ],
   "source": [
    "B = torch.chunk(A, 2, 1)\n",
    "B"
   ]
  },
  {
   "cell_type": "markdown",
   "id": "e8370c35-55cd-4796-9166-c8f1804b76fa",
   "metadata": {},
   "source": [
    "## split"
   ]
  },
  {
   "cell_type": "code",
   "execution_count": 19,
   "id": "61195767-761c-4d40-9414-98eaf3a4bcde",
   "metadata": {},
   "outputs": [
    {
     "data": {
      "text/plain": [
       "tensor([[0.3504, 0.4690, 0.7019, 0.3637],\n",
       "        [0.0179, 0.7827, 0.0201, 0.9353],\n",
       "        [0.1845, 0.8688, 0.4819, 0.3600],\n",
       "        [0.1376, 0.8005, 0.0161, 0.4226]])"
      ]
     },
     "execution_count": 19,
     "metadata": {},
     "output_type": "execute_result"
    }
   ],
   "source": [
    "A = torch.rand(4, 4)\n",
    "A"
   ]
  },
  {
   "cell_type": "code",
   "execution_count": 20,
   "id": "0143fcd6-a709-4bce-a95f-81842ea6eefd",
   "metadata": {},
   "outputs": [
    {
     "data": {
      "text/plain": [
       "(tensor([[0.3504, 0.4690, 0.7019, 0.3637],\n",
       "         [0.0179, 0.7827, 0.0201, 0.9353]]),\n",
       " tensor([[0.1845, 0.8688, 0.4819, 0.3600],\n",
       "         [0.1376, 0.8005, 0.0161, 0.4226]]))"
      ]
     },
     "execution_count": 20,
     "metadata": {},
     "output_type": "execute_result"
    }
   ],
   "source": [
    "B = torch.split(A, 2, 0)\n",
    "B"
   ]
  },
  {
   "cell_type": "code",
   "execution_count": 21,
   "id": "7c2296f5-6377-4f6b-b168-691bf26d71e2",
   "metadata": {},
   "outputs": [
    {
     "data": {
      "text/plain": [
       "(tensor([[0.3504, 0.4690, 0.7019, 0.3637],\n",
       "         [0.0179, 0.7827, 0.0201, 0.9353],\n",
       "         [0.1845, 0.8688, 0.4819, 0.3600]]),\n",
       " tensor([[0.1376, 0.8005, 0.0161, 0.4226]]))"
      ]
     },
     "execution_count": 21,
     "metadata": {},
     "output_type": "execute_result"
    }
   ],
   "source": [
    "C = torch.split(A, 3, 0)\n",
    "C"
   ]
  },
  {
   "cell_type": "code",
   "execution_count": 22,
   "id": "1b96d67e-acc8-4ccd-98a8-4ccea75b5bd0",
   "metadata": {},
   "outputs": [
    {
     "data": {
      "text/plain": [
       "tensor([[0.3079, 0.8712, 0.4690, 0.8309],\n",
       "        [0.0220, 0.3333, 0.2251, 0.2998],\n",
       "        [0.5099, 0.0215, 0.7324, 0.3560],\n",
       "        [0.3715, 0.1841, 0.1934, 0.3877],\n",
       "        [0.0114, 0.7080, 0.4150, 0.8662]])"
      ]
     },
     "execution_count": 22,
     "metadata": {},
     "output_type": "execute_result"
    }
   ],
   "source": [
    "A = torch.rand(5, 4)\n",
    "A"
   ]
  },
  {
   "cell_type": "code",
   "execution_count": 23,
   "id": "34630813-f511-4d0f-b534-29b0b80c8320",
   "metadata": {},
   "outputs": [
    {
     "data": {
      "text/plain": [
       "(tensor([[0.3079, 0.8712, 0.4690, 0.8309],\n",
       "         [0.0220, 0.3333, 0.2251, 0.2998]]),\n",
       " tensor([[0.5099, 0.0215, 0.7324, 0.3560],\n",
       "         [0.3715, 0.1841, 0.1934, 0.3877],\n",
       "         [0.0114, 0.7080, 0.4150, 0.8662]]))"
      ]
     },
     "execution_count": 23,
     "metadata": {},
     "output_type": "execute_result"
    }
   ],
   "source": [
    "B = torch.split(A, (2, 3), 0)\n",
    "B"
   ]
  },
  {
   "cell_type": "markdown",
   "id": "7c67349b-f8a3-43ff-8ac4-651c440e627f",
   "metadata": {},
   "source": [
    "## unbind"
   ]
  },
  {
   "cell_type": "code",
   "execution_count": 24,
   "id": "2f7e1002-f9b0-4066-83e3-ff34cc115778",
   "metadata": {},
   "outputs": [
    {
     "data": {
      "text/plain": [
       "tensor([[ 0,  1,  2,  3],\n",
       "        [ 4,  5,  6,  7],\n",
       "        [ 8,  9, 10, 11],\n",
       "        [12, 13, 14, 15]])"
      ]
     },
     "execution_count": 24,
     "metadata": {},
     "output_type": "execute_result"
    }
   ],
   "source": [
    "A = torch.arange(0, 16).view(4, 4)\n",
    "A"
   ]
  },
  {
   "cell_type": "code",
   "execution_count": 25,
   "id": "13a64928-a389-48d9-b82e-6e1d0e4ef110",
   "metadata": {},
   "outputs": [
    {
     "data": {
      "text/plain": [
       "(tensor([0, 1, 2, 3]),\n",
       " tensor([4, 5, 6, 7]),\n",
       " tensor([ 8,  9, 10, 11]),\n",
       " tensor([12, 13, 14, 15]))"
      ]
     },
     "execution_count": 25,
     "metadata": {},
     "output_type": "execute_result"
    }
   ],
   "source": [
    "B = torch.unbind(A, 0)\n",
    "B"
   ]
  },
  {
   "cell_type": "code",
   "execution_count": 26,
   "id": "10dd53a0-b8ab-41d3-b411-e5c82620a783",
   "metadata": {},
   "outputs": [
    {
     "data": {
      "text/plain": [
       "(tensor([ 0,  4,  8, 12]),\n",
       " tensor([ 1,  5,  9, 13]),\n",
       " tensor([ 2,  6, 10, 14]),\n",
       " tensor([ 3,  7, 11, 15]))"
      ]
     },
     "execution_count": 26,
     "metadata": {},
     "output_type": "execute_result"
    }
   ],
   "source": [
    "B = torch.unbind(A, 1)\n",
    "B"
   ]
  },
  {
   "cell_type": "markdown",
   "id": "086237a8-b7c5-46d5-8520-c3470b7dad04",
   "metadata": {},
   "source": [
    "# 索引操作"
   ]
  },
  {
   "cell_type": "markdown",
   "id": "a66b5540-e729-4a8c-b1ce-97380dd9dc28",
   "metadata": {},
   "source": [
    "## index_select"
   ]
  },
  {
   "cell_type": "code",
   "execution_count": 27,
   "id": "7484ed57-cf5c-4697-9cc2-c7fef5ae656b",
   "metadata": {},
   "outputs": [
    {
     "data": {
      "text/plain": [
       "tensor([[ 0,  1,  2,  3],\n",
       "        [ 4,  5,  6,  7],\n",
       "        [ 8,  9, 10, 11],\n",
       "        [12, 13, 14, 15]])"
      ]
     },
     "execution_count": 27,
     "metadata": {},
     "output_type": "execute_result"
    }
   ],
   "source": [
    "A = torch.arange(0, 16).view(4, 4)\n",
    "A"
   ]
  },
  {
   "cell_type": "code",
   "execution_count": 28,
   "id": "d46ac199-3f93-4b81-a2cf-2ad4b1115236",
   "metadata": {},
   "outputs": [
    {
     "data": {
      "text/plain": [
       "tensor([[ 4,  5,  6,  7],\n",
       "        [12, 13, 14, 15]])"
      ]
     },
     "execution_count": 28,
     "metadata": {},
     "output_type": "execute_result"
    }
   ],
   "source": [
    "B = torch.index_select(A, 0, torch.tensor([1, 3]))\n",
    "B"
   ]
  },
  {
   "cell_type": "code",
   "execution_count": 29,
   "id": "a0a107a0-c0d5-43ba-8c53-c93418ae0c03",
   "metadata": {},
   "outputs": [
    {
     "data": {
      "text/plain": [
       "tensor([[ 0,  3],\n",
       "        [ 4,  7],\n",
       "        [ 8, 11],\n",
       "        [12, 15]])"
      ]
     },
     "execution_count": 29,
     "metadata": {},
     "output_type": "execute_result"
    }
   ],
   "source": [
    "C = torch.index_select(A, 1, torch.tensor([0, 3]))\n",
    "C"
   ]
  },
  {
   "cell_type": "markdown",
   "id": "b044b7f2-66f6-480e-b3de-240126f324f1",
   "metadata": {},
   "source": [
    "## masked_select"
   ]
  },
  {
   "cell_type": "code",
   "execution_count": 30,
   "id": "020c75ea-2fc4-42b5-ae03-55da8b6e0b4b",
   "metadata": {},
   "outputs": [
    {
     "data": {
      "text/plain": [
       "tensor([0.4268, 0.0570, 0.9600, 0.8050, 0.7806])"
      ]
     },
     "execution_count": 30,
     "metadata": {},
     "output_type": "execute_result"
    }
   ],
   "source": [
    "A = torch.rand(5)\n",
    "A"
   ]
  },
  {
   "cell_type": "code",
   "execution_count": 31,
   "id": "d6b2912d-1cf0-4a1d-bce3-84dee20a7868",
   "metadata": {},
   "outputs": [
    {
     "data": {
      "text/plain": [
       "tensor([ True, False,  True,  True,  True])"
      ]
     },
     "execution_count": 31,
     "metadata": {},
     "output_type": "execute_result"
    }
   ],
   "source": [
    "B = A > 0.3\n",
    "B"
   ]
  },
  {
   "cell_type": "code",
   "execution_count": 32,
   "id": "9c1900e5-b77b-4699-96a1-af59a5775b79",
   "metadata": {},
   "outputs": [
    {
     "data": {
      "text/plain": [
       "tensor([0.4268, 0.9600, 0.8050, 0.7806])"
      ]
     },
     "execution_count": 32,
     "metadata": {},
     "output_type": "execute_result"
    }
   ],
   "source": [
    "C = torch.masked_select(A, B)\n",
    "C"
   ]
  },
  {
   "cell_type": "markdown",
   "id": "66d091e9-dba0-4481-8066-4733d99ee70a",
   "metadata": {},
   "source": [
    "可以简化为："
   ]
  },
  {
   "cell_type": "code",
   "execution_count": 33,
   "id": "4ea2599b-4057-42a3-8b8b-8272592311f8",
   "metadata": {},
   "outputs": [
    {
     "data": {
      "text/plain": [
       "tensor([0.1448, 0.3676, 0.3988, 0.5029, 0.6017])"
      ]
     },
     "execution_count": 33,
     "metadata": {},
     "output_type": "execute_result"
    }
   ],
   "source": [
    "A = torch.rand(5)\n",
    "A"
   ]
  },
  {
   "cell_type": "code",
   "execution_count": 34,
   "id": "3435bf07-d6e7-406b-91cb-6ec76e721b15",
   "metadata": {},
   "outputs": [
    {
     "data": {
      "text/plain": [
       "tensor([0.3676, 0.3988, 0.5029, 0.6017])"
      ]
     },
     "execution_count": 34,
     "metadata": {},
     "output_type": "execute_result"
    }
   ],
   "source": [
    "C = torch.masked_select(A, A > 0.3)\n",
    "C"
   ]
  }
 ],
 "metadata": {
  "kernelspec": {
   "display_name": "Python 3 (ipykernel)",
   "language": "python",
   "name": "python3"
  },
  "language_info": {
   "codemirror_mode": {
    "name": "ipython",
    "version": 3
   },
   "file_extension": ".py",
   "mimetype": "text/x-python",
   "name": "python",
   "nbconvert_exporter": "python",
   "pygments_lexer": "ipython3",
   "version": "3.9.5"
  }
 },
 "nbformat": 4,
 "nbformat_minor": 5
}
